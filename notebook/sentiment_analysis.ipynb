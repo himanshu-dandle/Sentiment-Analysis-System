{
 "cells": [
  {
   "cell_type": "code",
   "execution_count": 1,
   "id": "25331f31-3068-4dc9-bf8a-002f91163ab8",
   "metadata": {},
   "outputs": [
    {
     "name": "stderr",
     "output_type": "stream",
     "text": [
      "[nltk_data] Downloading package punkt to\n",
      "[nltk_data]     C:\\Users\\Himanshu\\AppData\\Roaming\\nltk_data...\n",
      "[nltk_data]   Package punkt is already up-to-date!\n",
      "[nltk_data] Downloading package stopwords to\n",
      "[nltk_data]     C:\\Users\\Himanshu\\AppData\\Roaming\\nltk_data...\n",
      "[nltk_data]   Package stopwords is already up-to-date!\n"
     ]
    }
   ],
   "source": [
    "import pandas as pd\n",
    "import re\n",
    "import nltk\n",
    "import spacy\n",
    "from nltk.corpus import stopwords\n",
    "from nltk.tokenize import word_tokenize\n",
    "\n",
    "# Download NLTK resources\n",
    "nltk.download('punkt')\n",
    "nltk.download('stopwords')\n",
    "\n",
    "# Load spaCy model\n",
    "nlp = spacy.load('en_core_web_sm')\n",
    "\n"
   ]
  },
  {
   "cell_type": "markdown",
   "id": "1ce1a545-b283-4ebe-9b83-60b5fe0e0d65",
   "metadata": {},
   "source": [
    "## Data loading"
   ]
  },
  {
   "cell_type": "code",
   "execution_count": 9,
   "id": "526502bd-d6b6-417e-9cce-8b5a6a03db02",
   "metadata": {},
   "outputs": [],
   "source": [
    "# Load dataset\n",
    "file_path = '../data/IMDB Dataset.csv'\n",
    "df = pd.read_csv(file_path)\n",
    "df.columns = ['review', 'sentiment']\n",
    "\n"
   ]
  },
  {
   "cell_type": "code",
   "execution_count": 10,
   "id": "a960ee80-5f00-4470-bccb-99309866ba28",
   "metadata": {},
   "outputs": [
    {
     "data": {
      "text/html": [
       "<div>\n",
       "<style scoped>\n",
       "    .dataframe tbody tr th:only-of-type {\n",
       "        vertical-align: middle;\n",
       "    }\n",
       "\n",
       "    .dataframe tbody tr th {\n",
       "        vertical-align: top;\n",
       "    }\n",
       "\n",
       "    .dataframe thead th {\n",
       "        text-align: right;\n",
       "    }\n",
       "</style>\n",
       "<table border=\"1\" class=\"dataframe\">\n",
       "  <thead>\n",
       "    <tr style=\"text-align: right;\">\n",
       "      <th></th>\n",
       "      <th>review</th>\n",
       "      <th>sentiment</th>\n",
       "    </tr>\n",
       "  </thead>\n",
       "  <tbody>\n",
       "    <tr>\n",
       "      <th>0</th>\n",
       "      <td>One of the other reviewers has mentioned that ...</td>\n",
       "      <td>positive</td>\n",
       "    </tr>\n",
       "    <tr>\n",
       "      <th>1</th>\n",
       "      <td>A wonderful little production. &lt;br /&gt;&lt;br /&gt;The...</td>\n",
       "      <td>positive</td>\n",
       "    </tr>\n",
       "    <tr>\n",
       "      <th>2</th>\n",
       "      <td>I thought this was a wonderful way to spend ti...</td>\n",
       "      <td>positive</td>\n",
       "    </tr>\n",
       "    <tr>\n",
       "      <th>3</th>\n",
       "      <td>Basically there's a family where a little boy ...</td>\n",
       "      <td>negative</td>\n",
       "    </tr>\n",
       "    <tr>\n",
       "      <th>4</th>\n",
       "      <td>Petter Mattei's \"Love in the Time of Money\" is...</td>\n",
       "      <td>positive</td>\n",
       "    </tr>\n",
       "  </tbody>\n",
       "</table>\n",
       "</div>"
      ],
      "text/plain": [
       "                                              review sentiment\n",
       "0  One of the other reviewers has mentioned that ...  positive\n",
       "1  A wonderful little production. <br /><br />The...  positive\n",
       "2  I thought this was a wonderful way to spend ti...  positive\n",
       "3  Basically there's a family where a little boy ...  negative\n",
       "4  Petter Mattei's \"Love in the Time of Money\" is...  positive"
      ]
     },
     "execution_count": 10,
     "metadata": {},
     "output_type": "execute_result"
    }
   ],
   "source": [
    "df.head()\n"
   ]
  },
  {
   "cell_type": "code",
   "execution_count": 6,
   "id": "b36d6fee-3d24-424d-8ea3-10f2879c3366",
   "metadata": {},
   "outputs": [
    {
     "data": {
      "text/plain": [
       "(50000, 2)"
      ]
     },
     "execution_count": 6,
     "metadata": {},
     "output_type": "execute_result"
    }
   ],
   "source": [
    "df.shape"
   ]
  },
  {
   "cell_type": "markdown",
   "id": "923adbe0-522e-4238-976c-c3fdc6a91264",
   "metadata": {},
   "source": [
    "## Clean the Text Data"
   ]
  },
  {
   "cell_type": "code",
   "execution_count": 11,
   "id": "499c9303-9b2f-4df9-b3e1-9fdf39ff9714",
   "metadata": {},
   "outputs": [],
   "source": [
    "import re\n",
    "from nltk.tokenize import word_tokenize\n",
    "from nltk.corpus import stopwords\n",
    "import spacy\n",
    "\n",
    "# Load spaCy model\n",
    "nlp = spacy.load('en_core_web_sm')\n",
    "\n",
    "# Function to clean text\n",
    "def clean_text(text):\n",
    "    # Convert to lowercase\n",
    "    text = text.lower()\n",
    "    # Remove HTML tags\n",
    "    text = re.sub(r'<.*?>', '', text)\n",
    "    # Remove special characters and numbers\n",
    "    text = re.sub(r'[^a-zA-Z\\s]', '', text)\n",
    "    # Tokenize the text\n",
    "    tokens = word_tokenize(text)\n",
    "    # Remove stopwords\n",
    "    tokens = [word for word in tokens if word not in stopwords.words('english')]\n",
    "    # Lemmatize the tokens\n",
    "    doc = nlp(' '.join(tokens))\n",
    "    lemmatized = [token.lemma_ for token in doc]\n",
    "    # Rejoin tokens into a single string\n",
    "    return ' '.join(lemmatized)\n",
    "\n"
   ]
  },
  {
   "cell_type": "code",
   "execution_count": 8,
   "id": "83513378-8c6c-415d-bd23-0d4edc27a705",
   "metadata": {},
   "outputs": [
    {
     "ename": "KeyboardInterrupt",
     "evalue": "",
     "output_type": "error",
     "traceback": [
      "\u001b[1;31m---------------------------------------------------------------------------\u001b[0m",
      "\u001b[1;31mKeyboardInterrupt\u001b[0m                         Traceback (most recent call last)",
      "Cell \u001b[1;32mIn[8], line 2\u001b[0m\n\u001b[0;32m      1\u001b[0m \u001b[38;5;66;03m# Apply text cleaning to the dataset\u001b[39;00m\n\u001b[1;32m----> 2\u001b[0m df[\u001b[38;5;124m'\u001b[39m\u001b[38;5;124mclean_text\u001b[39m\u001b[38;5;124m'\u001b[39m] \u001b[38;5;241m=\u001b[39m \u001b[43mdf\u001b[49m\u001b[43m[\u001b[49m\u001b[38;5;124;43m'\u001b[39;49m\u001b[38;5;124;43mreview\u001b[39;49m\u001b[38;5;124;43m'\u001b[39;49m\u001b[43m]\u001b[49m\u001b[38;5;241;43m.\u001b[39;49m\u001b[43mapply\u001b[49m\u001b[43m(\u001b[49m\u001b[43mclean_text\u001b[49m\u001b[43m)\u001b[49m\n\u001b[0;32m      4\u001b[0m \u001b[38;5;66;03m# Map sentiment labels to binary values\u001b[39;00m\n\u001b[0;32m      5\u001b[0m df[\u001b[38;5;124m'\u001b[39m\u001b[38;5;124msentiment\u001b[39m\u001b[38;5;124m'\u001b[39m] \u001b[38;5;241m=\u001b[39m df[\u001b[38;5;124m'\u001b[39m\u001b[38;5;124msentiment\u001b[39m\u001b[38;5;124m'\u001b[39m]\u001b[38;5;241m.\u001b[39mmap({\u001b[38;5;124m'\u001b[39m\u001b[38;5;124mpositive\u001b[39m\u001b[38;5;124m'\u001b[39m: \u001b[38;5;241m1\u001b[39m, \u001b[38;5;124m'\u001b[39m\u001b[38;5;124mnegative\u001b[39m\u001b[38;5;124m'\u001b[39m: \u001b[38;5;241m0\u001b[39m})\n",
      "File \u001b[1;32m~\\Sentiment-Analysis-System\\venv\\Lib\\site-packages\\pandas\\core\\series.py:4924\u001b[0m, in \u001b[0;36mSeries.apply\u001b[1;34m(self, func, convert_dtype, args, by_row, **kwargs)\u001b[0m\n\u001b[0;32m   4789\u001b[0m \u001b[38;5;28;01mdef\u001b[39;00m\u001b[38;5;250m \u001b[39m\u001b[38;5;21mapply\u001b[39m(\n\u001b[0;32m   4790\u001b[0m     \u001b[38;5;28mself\u001b[39m,\n\u001b[0;32m   4791\u001b[0m     func: AggFuncType,\n\u001b[1;32m   (...)\u001b[0m\n\u001b[0;32m   4796\u001b[0m     \u001b[38;5;241m*\u001b[39m\u001b[38;5;241m*\u001b[39mkwargs,\n\u001b[0;32m   4797\u001b[0m ) \u001b[38;5;241m-\u001b[39m\u001b[38;5;241m>\u001b[39m DataFrame \u001b[38;5;241m|\u001b[39m Series:\n\u001b[0;32m   4798\u001b[0m \u001b[38;5;250m    \u001b[39m\u001b[38;5;124;03m\"\"\"\u001b[39;00m\n\u001b[0;32m   4799\u001b[0m \u001b[38;5;124;03m    Invoke function on values of Series.\u001b[39;00m\n\u001b[0;32m   4800\u001b[0m \n\u001b[1;32m   (...)\u001b[0m\n\u001b[0;32m   4915\u001b[0m \u001b[38;5;124;03m    dtype: float64\u001b[39;00m\n\u001b[0;32m   4916\u001b[0m \u001b[38;5;124;03m    \"\"\"\u001b[39;00m\n\u001b[0;32m   4917\u001b[0m     \u001b[38;5;28;01mreturn\u001b[39;00m \u001b[43mSeriesApply\u001b[49m\u001b[43m(\u001b[49m\n\u001b[0;32m   4918\u001b[0m \u001b[43m        \u001b[49m\u001b[38;5;28;43mself\u001b[39;49m\u001b[43m,\u001b[49m\n\u001b[0;32m   4919\u001b[0m \u001b[43m        \u001b[49m\u001b[43mfunc\u001b[49m\u001b[43m,\u001b[49m\n\u001b[0;32m   4920\u001b[0m \u001b[43m        \u001b[49m\u001b[43mconvert_dtype\u001b[49m\u001b[38;5;241;43m=\u001b[39;49m\u001b[43mconvert_dtype\u001b[49m\u001b[43m,\u001b[49m\n\u001b[0;32m   4921\u001b[0m \u001b[43m        \u001b[49m\u001b[43mby_row\u001b[49m\u001b[38;5;241;43m=\u001b[39;49m\u001b[43mby_row\u001b[49m\u001b[43m,\u001b[49m\n\u001b[0;32m   4922\u001b[0m \u001b[43m        \u001b[49m\u001b[43margs\u001b[49m\u001b[38;5;241;43m=\u001b[39;49m\u001b[43margs\u001b[49m\u001b[43m,\u001b[49m\n\u001b[0;32m   4923\u001b[0m \u001b[43m        \u001b[49m\u001b[43mkwargs\u001b[49m\u001b[38;5;241;43m=\u001b[39;49m\u001b[43mkwargs\u001b[49m\u001b[43m,\u001b[49m\n\u001b[1;32m-> 4924\u001b[0m \u001b[43m    \u001b[49m\u001b[43m)\u001b[49m\u001b[38;5;241;43m.\u001b[39;49m\u001b[43mapply\u001b[49m\u001b[43m(\u001b[49m\u001b[43m)\u001b[49m\n",
      "File \u001b[1;32m~\\Sentiment-Analysis-System\\venv\\Lib\\site-packages\\pandas\\core\\apply.py:1427\u001b[0m, in \u001b[0;36mSeriesApply.apply\u001b[1;34m(self)\u001b[0m\n\u001b[0;32m   1424\u001b[0m     \u001b[38;5;28;01mreturn\u001b[39;00m \u001b[38;5;28mself\u001b[39m\u001b[38;5;241m.\u001b[39mapply_compat()\n\u001b[0;32m   1426\u001b[0m \u001b[38;5;66;03m# self.func is Callable\u001b[39;00m\n\u001b[1;32m-> 1427\u001b[0m \u001b[38;5;28;01mreturn\u001b[39;00m \u001b[38;5;28;43mself\u001b[39;49m\u001b[38;5;241;43m.\u001b[39;49m\u001b[43mapply_standard\u001b[49m\u001b[43m(\u001b[49m\u001b[43m)\u001b[49m\n",
      "File \u001b[1;32m~\\Sentiment-Analysis-System\\venv\\Lib\\site-packages\\pandas\\core\\apply.py:1507\u001b[0m, in \u001b[0;36mSeriesApply.apply_standard\u001b[1;34m(self)\u001b[0m\n\u001b[0;32m   1501\u001b[0m \u001b[38;5;66;03m# row-wise access\u001b[39;00m\n\u001b[0;32m   1502\u001b[0m \u001b[38;5;66;03m# apply doesn't have a `na_action` keyword and for backward compat reasons\u001b[39;00m\n\u001b[0;32m   1503\u001b[0m \u001b[38;5;66;03m# we need to give `na_action=\"ignore\"` for categorical data.\u001b[39;00m\n\u001b[0;32m   1504\u001b[0m \u001b[38;5;66;03m# TODO: remove the `na_action=\"ignore\"` when that default has been changed in\u001b[39;00m\n\u001b[0;32m   1505\u001b[0m \u001b[38;5;66;03m#  Categorical (GH51645).\u001b[39;00m\n\u001b[0;32m   1506\u001b[0m action \u001b[38;5;241m=\u001b[39m \u001b[38;5;124m\"\u001b[39m\u001b[38;5;124mignore\u001b[39m\u001b[38;5;124m\"\u001b[39m \u001b[38;5;28;01mif\u001b[39;00m \u001b[38;5;28misinstance\u001b[39m(obj\u001b[38;5;241m.\u001b[39mdtype, CategoricalDtype) \u001b[38;5;28;01melse\u001b[39;00m \u001b[38;5;28;01mNone\u001b[39;00m\n\u001b[1;32m-> 1507\u001b[0m mapped \u001b[38;5;241m=\u001b[39m \u001b[43mobj\u001b[49m\u001b[38;5;241;43m.\u001b[39;49m\u001b[43m_map_values\u001b[49m\u001b[43m(\u001b[49m\n\u001b[0;32m   1508\u001b[0m \u001b[43m    \u001b[49m\u001b[43mmapper\u001b[49m\u001b[38;5;241;43m=\u001b[39;49m\u001b[43mcurried\u001b[49m\u001b[43m,\u001b[49m\u001b[43m \u001b[49m\u001b[43mna_action\u001b[49m\u001b[38;5;241;43m=\u001b[39;49m\u001b[43maction\u001b[49m\u001b[43m,\u001b[49m\u001b[43m \u001b[49m\u001b[43mconvert\u001b[49m\u001b[38;5;241;43m=\u001b[39;49m\u001b[38;5;28;43mself\u001b[39;49m\u001b[38;5;241;43m.\u001b[39;49m\u001b[43mconvert_dtype\u001b[49m\n\u001b[0;32m   1509\u001b[0m \u001b[43m\u001b[49m\u001b[43m)\u001b[49m\n\u001b[0;32m   1511\u001b[0m \u001b[38;5;28;01mif\u001b[39;00m \u001b[38;5;28mlen\u001b[39m(mapped) \u001b[38;5;129;01mand\u001b[39;00m \u001b[38;5;28misinstance\u001b[39m(mapped[\u001b[38;5;241m0\u001b[39m], ABCSeries):\n\u001b[0;32m   1512\u001b[0m     \u001b[38;5;66;03m# GH#43986 Need to do list(mapped) in order to get treated as nested\u001b[39;00m\n\u001b[0;32m   1513\u001b[0m     \u001b[38;5;66;03m#  See also GH#25959 regarding EA support\u001b[39;00m\n\u001b[0;32m   1514\u001b[0m     \u001b[38;5;28;01mreturn\u001b[39;00m obj\u001b[38;5;241m.\u001b[39m_constructor_expanddim(\u001b[38;5;28mlist\u001b[39m(mapped), index\u001b[38;5;241m=\u001b[39mobj\u001b[38;5;241m.\u001b[39mindex)\n",
      "File \u001b[1;32m~\\Sentiment-Analysis-System\\venv\\Lib\\site-packages\\pandas\\core\\base.py:921\u001b[0m, in \u001b[0;36mIndexOpsMixin._map_values\u001b[1;34m(self, mapper, na_action, convert)\u001b[0m\n\u001b[0;32m    918\u001b[0m \u001b[38;5;28;01mif\u001b[39;00m \u001b[38;5;28misinstance\u001b[39m(arr, ExtensionArray):\n\u001b[0;32m    919\u001b[0m     \u001b[38;5;28;01mreturn\u001b[39;00m arr\u001b[38;5;241m.\u001b[39mmap(mapper, na_action\u001b[38;5;241m=\u001b[39mna_action)\n\u001b[1;32m--> 921\u001b[0m \u001b[38;5;28;01mreturn\u001b[39;00m \u001b[43malgorithms\u001b[49m\u001b[38;5;241;43m.\u001b[39;49m\u001b[43mmap_array\u001b[49m\u001b[43m(\u001b[49m\u001b[43marr\u001b[49m\u001b[43m,\u001b[49m\u001b[43m \u001b[49m\u001b[43mmapper\u001b[49m\u001b[43m,\u001b[49m\u001b[43m \u001b[49m\u001b[43mna_action\u001b[49m\u001b[38;5;241;43m=\u001b[39;49m\u001b[43mna_action\u001b[49m\u001b[43m,\u001b[49m\u001b[43m \u001b[49m\u001b[43mconvert\u001b[49m\u001b[38;5;241;43m=\u001b[39;49m\u001b[43mconvert\u001b[49m\u001b[43m)\u001b[49m\n",
      "File \u001b[1;32m~\\Sentiment-Analysis-System\\venv\\Lib\\site-packages\\pandas\\core\\algorithms.py:1743\u001b[0m, in \u001b[0;36mmap_array\u001b[1;34m(arr, mapper, na_action, convert)\u001b[0m\n\u001b[0;32m   1741\u001b[0m values \u001b[38;5;241m=\u001b[39m arr\u001b[38;5;241m.\u001b[39mastype(\u001b[38;5;28mobject\u001b[39m, copy\u001b[38;5;241m=\u001b[39m\u001b[38;5;28;01mFalse\u001b[39;00m)\n\u001b[0;32m   1742\u001b[0m \u001b[38;5;28;01mif\u001b[39;00m na_action \u001b[38;5;129;01mis\u001b[39;00m \u001b[38;5;28;01mNone\u001b[39;00m:\n\u001b[1;32m-> 1743\u001b[0m     \u001b[38;5;28;01mreturn\u001b[39;00m \u001b[43mlib\u001b[49m\u001b[38;5;241;43m.\u001b[39;49m\u001b[43mmap_infer\u001b[49m\u001b[43m(\u001b[49m\u001b[43mvalues\u001b[49m\u001b[43m,\u001b[49m\u001b[43m \u001b[49m\u001b[43mmapper\u001b[49m\u001b[43m,\u001b[49m\u001b[43m \u001b[49m\u001b[43mconvert\u001b[49m\u001b[38;5;241;43m=\u001b[39;49m\u001b[43mconvert\u001b[49m\u001b[43m)\u001b[49m\n\u001b[0;32m   1744\u001b[0m \u001b[38;5;28;01melse\u001b[39;00m:\n\u001b[0;32m   1745\u001b[0m     \u001b[38;5;28;01mreturn\u001b[39;00m lib\u001b[38;5;241m.\u001b[39mmap_infer_mask(\n\u001b[0;32m   1746\u001b[0m         values, mapper, mask\u001b[38;5;241m=\u001b[39misna(values)\u001b[38;5;241m.\u001b[39mview(np\u001b[38;5;241m.\u001b[39muint8), convert\u001b[38;5;241m=\u001b[39mconvert\n\u001b[0;32m   1747\u001b[0m     )\n",
      "File \u001b[1;32mlib.pyx:2972\u001b[0m, in \u001b[0;36mpandas._libs.lib.map_infer\u001b[1;34m()\u001b[0m\n",
      "Cell \u001b[1;32mIn[7], line 20\u001b[0m, in \u001b[0;36mclean_text\u001b[1;34m(text)\u001b[0m\n\u001b[0;32m     18\u001b[0m tokens \u001b[38;5;241m=\u001b[39m word_tokenize(text)\n\u001b[0;32m     19\u001b[0m \u001b[38;5;66;03m# Remove stopwords\u001b[39;00m\n\u001b[1;32m---> 20\u001b[0m tokens \u001b[38;5;241m=\u001b[39m [word \u001b[38;5;28;01mfor\u001b[39;00m word \u001b[38;5;129;01min\u001b[39;00m tokens \u001b[38;5;28;01mif\u001b[39;00m word \u001b[38;5;129;01mnot\u001b[39;00m \u001b[38;5;129;01min\u001b[39;00m \u001b[43mstopwords\u001b[49m\u001b[38;5;241;43m.\u001b[39;49m\u001b[43mwords\u001b[49m\u001b[43m(\u001b[49m\u001b[38;5;124;43m'\u001b[39;49m\u001b[38;5;124;43menglish\u001b[39;49m\u001b[38;5;124;43m'\u001b[39;49m\u001b[43m)\u001b[49m]\n\u001b[0;32m     21\u001b[0m \u001b[38;5;66;03m# Lemmatize the tokens\u001b[39;00m\n\u001b[0;32m     22\u001b[0m doc \u001b[38;5;241m=\u001b[39m nlp(\u001b[38;5;124m'\u001b[39m\u001b[38;5;124m \u001b[39m\u001b[38;5;124m'\u001b[39m\u001b[38;5;241m.\u001b[39mjoin(tokens))\n",
      "File \u001b[1;32m~\\Sentiment-Analysis-System\\venv\\Lib\\site-packages\\nltk\\corpus\\reader\\wordlist.py:21\u001b[0m, in \u001b[0;36mWordListCorpusReader.words\u001b[1;34m(self, fileids, ignore_lines_startswith)\u001b[0m\n\u001b[0;32m     18\u001b[0m \u001b[38;5;28;01mdef\u001b[39;00m\u001b[38;5;250m \u001b[39m\u001b[38;5;21mwords\u001b[39m(\u001b[38;5;28mself\u001b[39m, fileids\u001b[38;5;241m=\u001b[39m\u001b[38;5;28;01mNone\u001b[39;00m, ignore_lines_startswith\u001b[38;5;241m=\u001b[39m\u001b[38;5;124m\"\u001b[39m\u001b[38;5;130;01m\\n\u001b[39;00m\u001b[38;5;124m\"\u001b[39m):\n\u001b[0;32m     19\u001b[0m     \u001b[38;5;28;01mreturn\u001b[39;00m [\n\u001b[0;32m     20\u001b[0m         line\n\u001b[1;32m---> 21\u001b[0m         \u001b[38;5;28;01mfor\u001b[39;00m line \u001b[38;5;129;01min\u001b[39;00m line_tokenize(\u001b[38;5;28;43mself\u001b[39;49m\u001b[38;5;241;43m.\u001b[39;49m\u001b[43mraw\u001b[49m\u001b[43m(\u001b[49m\u001b[43mfileids\u001b[49m\u001b[43m)\u001b[49m)\n\u001b[0;32m     22\u001b[0m         \u001b[38;5;28;01mif\u001b[39;00m \u001b[38;5;129;01mnot\u001b[39;00m line\u001b[38;5;241m.\u001b[39mstartswith(ignore_lines_startswith)\n\u001b[0;32m     23\u001b[0m     ]\n",
      "File \u001b[1;32m~\\Sentiment-Analysis-System\\venv\\Lib\\site-packages\\nltk\\corpus\\reader\\api.py:218\u001b[0m, in \u001b[0;36mCorpusReader.raw\u001b[1;34m(self, fileids)\u001b[0m\n\u001b[0;32m    216\u001b[0m contents \u001b[38;5;241m=\u001b[39m []\n\u001b[0;32m    217\u001b[0m \u001b[38;5;28;01mfor\u001b[39;00m f \u001b[38;5;129;01min\u001b[39;00m fileids:\n\u001b[1;32m--> 218\u001b[0m     \u001b[38;5;28;01mwith\u001b[39;00m \u001b[38;5;28;43mself\u001b[39;49m\u001b[38;5;241;43m.\u001b[39;49m\u001b[43mopen\u001b[49m\u001b[43m(\u001b[49m\u001b[43mf\u001b[49m\u001b[43m)\u001b[49m \u001b[38;5;28;01mas\u001b[39;00m fp:\n\u001b[0;32m    219\u001b[0m         contents\u001b[38;5;241m.\u001b[39mappend(fp\u001b[38;5;241m.\u001b[39mread())\n\u001b[0;32m    220\u001b[0m \u001b[38;5;28;01mreturn\u001b[39;00m concat(contents)\n",
      "File \u001b[1;32m~\\Sentiment-Analysis-System\\venv\\Lib\\site-packages\\nltk\\corpus\\reader\\api.py:231\u001b[0m, in \u001b[0;36mCorpusReader.open\u001b[1;34m(self, file)\u001b[0m\n\u001b[0;32m    223\u001b[0m \u001b[38;5;250m\u001b[39m\u001b[38;5;124;03m\"\"\"\u001b[39;00m\n\u001b[0;32m    224\u001b[0m \u001b[38;5;124;03mReturn an open stream that can be used to read the given file.\u001b[39;00m\n\u001b[0;32m    225\u001b[0m \u001b[38;5;124;03mIf the file's encoding is not None, then the stream will\u001b[39;00m\n\u001b[1;32m   (...)\u001b[0m\n\u001b[0;32m    228\u001b[0m \u001b[38;5;124;03m:param file: The file identifier of the file to read.\u001b[39;00m\n\u001b[0;32m    229\u001b[0m \u001b[38;5;124;03m\"\"\"\u001b[39;00m\n\u001b[0;32m    230\u001b[0m encoding \u001b[38;5;241m=\u001b[39m \u001b[38;5;28mself\u001b[39m\u001b[38;5;241m.\u001b[39mencoding(file)\n\u001b[1;32m--> 231\u001b[0m stream \u001b[38;5;241m=\u001b[39m \u001b[38;5;28;43mself\u001b[39;49m\u001b[38;5;241;43m.\u001b[39;49m\u001b[43m_root\u001b[49m\u001b[38;5;241;43m.\u001b[39;49m\u001b[43mjoin\u001b[49m\u001b[43m(\u001b[49m\u001b[43mfile\u001b[49m\u001b[43m)\u001b[49m\u001b[38;5;241m.\u001b[39mopen(encoding)\n\u001b[0;32m    232\u001b[0m \u001b[38;5;28;01mreturn\u001b[39;00m stream\n",
      "File \u001b[1;32m~\\Sentiment-Analysis-System\\venv\\Lib\\site-packages\\nltk\\data.py:333\u001b[0m, in \u001b[0;36mFileSystemPathPointer.join\u001b[1;34m(self, fileid)\u001b[0m\n\u001b[0;32m    331\u001b[0m \u001b[38;5;28;01mdef\u001b[39;00m\u001b[38;5;250m \u001b[39m\u001b[38;5;21mjoin\u001b[39m(\u001b[38;5;28mself\u001b[39m, fileid):\n\u001b[0;32m    332\u001b[0m     _path \u001b[38;5;241m=\u001b[39m os\u001b[38;5;241m.\u001b[39mpath\u001b[38;5;241m.\u001b[39mjoin(\u001b[38;5;28mself\u001b[39m\u001b[38;5;241m.\u001b[39m_path, fileid)\n\u001b[1;32m--> 333\u001b[0m     \u001b[38;5;28;01mreturn\u001b[39;00m \u001b[43mFileSystemPathPointer\u001b[49m\u001b[43m(\u001b[49m\u001b[43m_path\u001b[49m\u001b[43m)\u001b[49m\n",
      "File \u001b[1;32m~\\Sentiment-Analysis-System\\venv\\Lib\\site-packages\\nltk\\data.py:310\u001b[0m, in \u001b[0;36mFileSystemPathPointer.__init__\u001b[1;34m(self, _path)\u001b[0m\n\u001b[0;32m    303\u001b[0m \u001b[38;5;250m\u001b[39m\u001b[38;5;124;03m\"\"\"\u001b[39;00m\n\u001b[0;32m    304\u001b[0m \u001b[38;5;124;03mCreate a new path pointer for the given absolute path.\u001b[39;00m\n\u001b[0;32m    305\u001b[0m \n\u001b[0;32m    306\u001b[0m \u001b[38;5;124;03m:raise IOError: If the given path does not exist.\u001b[39;00m\n\u001b[0;32m    307\u001b[0m \u001b[38;5;124;03m\"\"\"\u001b[39;00m\n\u001b[0;32m    309\u001b[0m _path \u001b[38;5;241m=\u001b[39m os\u001b[38;5;241m.\u001b[39mpath\u001b[38;5;241m.\u001b[39mabspath(_path)\n\u001b[1;32m--> 310\u001b[0m \u001b[38;5;28;01mif\u001b[39;00m \u001b[38;5;129;01mnot\u001b[39;00m \u001b[43mos\u001b[49m\u001b[38;5;241;43m.\u001b[39;49m\u001b[43mpath\u001b[49m\u001b[38;5;241;43m.\u001b[39;49m\u001b[43mexists\u001b[49m\u001b[43m(\u001b[49m\u001b[43m_path\u001b[49m\u001b[43m)\u001b[49m:\n\u001b[0;32m    311\u001b[0m     \u001b[38;5;28;01mraise\u001b[39;00m \u001b[38;5;167;01mOSError\u001b[39;00m(\u001b[38;5;124m\"\u001b[39m\u001b[38;5;124mNo such file or directory: \u001b[39m\u001b[38;5;132;01m%r\u001b[39;00m\u001b[38;5;124m\"\u001b[39m \u001b[38;5;241m%\u001b[39m _path)\n\u001b[0;32m    312\u001b[0m \u001b[38;5;28mself\u001b[39m\u001b[38;5;241m.\u001b[39m_path \u001b[38;5;241m=\u001b[39m _path\n",
      "\u001b[1;31mKeyboardInterrupt\u001b[0m: "
     ]
    }
   ],
   "source": [
    "# Apply text cleaning to the dataset\n",
    "df['clean_text'] = df['review'].apply(clean_text)\n",
    "\n",
    "# Map sentiment labels to binary values\n",
    "df['sentiment'] = df['sentiment'].map({'positive': 1, 'negative': 0})\n",
    "\n",
    "\n"
   ]
  },
  {
   "cell_type": "code",
   "execution_count": null,
   "id": "91ad6d3c-33ea-4019-a5c4-131feba5929a",
   "metadata": {},
   "outputs": [],
   "source": [
    "# Save the preprocessed dataset (optional)\n",
    "df.to_csv('../data/processed_data.csv', index=False)\n",
    "\n",
    "# Preview the processed data\n",
    "df.head()"
   ]
  },
  {
   "cell_type": "code",
   "execution_count": null,
   "id": "61a70a7b-90f8-48a9-91a3-39ea4c1bf11d",
   "metadata": {},
   "outputs": [],
   "source": []
  },
  {
   "cell_type": "code",
   "execution_count": 15,
   "id": "a76016d0-5417-4748-8aba-706c7e9e824a",
   "metadata": {},
   "outputs": [],
   "source": [
    "# Import necessary libraries\n",
    "import pandas as pd\n",
    "import spacy\n",
    "import swifter  # Install using `pip install swifter`\n",
    "\n",
    "# Load spaCy's English model (optimized for speed)\n",
    "nlp = spacy.load(\"en_core_web_sm\", disable=[\"parser\", \"ner\"])  # Disable unnecessary components for efficiency\n",
    "\n",
    "# Define text cleaning function using spaCy\n",
    "def clean_text_spacy(text):\n",
    "    \"\"\"\n",
    "    Function to clean and preprocess text using spaCy.\n",
    "    - Converts text to lowercase.\n",
    "    - Removes stopwords and non-alphabetic tokens.\n",
    "    - Lemmatizes the tokens.\n",
    "    \"\"\"\n",
    "    doc = nlp(text.lower())\n",
    "    tokens = [token.lemma_ for token in doc if token.is_alpha and not token.is_stop]\n",
    "    return \" \".join(tokens)"
   ]
  },
  {
   "cell_type": "code",
   "execution_count": 13,
   "id": "ae217248-9bbd-4520-b325-50c07dc140ab",
   "metadata": {},
   "outputs": [
    {
     "name": "stdout",
     "output_type": "stream",
     "text": [
      "Collecting swifter\n",
      "  Using cached swifter-1.4.0-py3-none-any.whl\n",
      "Requirement already satisfied: pandas>=1.0.0 in c:\\users\\himanshu\\sentiment-analysis-system\\venv\\lib\\site-packages (from swifter) (2.2.3)\n",
      "Requirement already satisfied: psutil>=5.6.6 in c:\\users\\himanshu\\sentiment-analysis-system\\venv\\lib\\site-packages (from swifter) (6.1.1)\n",
      "Collecting dask>=2.10.0 (from dask[dataframe]>=2.10.0->swifter)\n",
      "  Downloading dask-2024.12.1-py3-none-any.whl.metadata (3.7 kB)\n",
      "Requirement already satisfied: tqdm>=4.33.0 in c:\\users\\himanshu\\sentiment-analysis-system\\venv\\lib\\site-packages (from swifter) (4.67.1)\n",
      "Requirement already satisfied: click>=8.1 in c:\\users\\himanshu\\sentiment-analysis-system\\venv\\lib\\site-packages (from dask>=2.10.0->dask[dataframe]>=2.10.0->swifter) (8.1.8)\n",
      "Collecting cloudpickle>=3.0.0 (from dask>=2.10.0->dask[dataframe]>=2.10.0->swifter)\n",
      "  Downloading cloudpickle-3.1.0-py3-none-any.whl.metadata (7.0 kB)\n",
      "Requirement already satisfied: fsspec>=2021.09.0 in c:\\users\\himanshu\\sentiment-analysis-system\\venv\\lib\\site-packages (from dask>=2.10.0->dask[dataframe]>=2.10.0->swifter) (2024.12.0)\n",
      "Requirement already satisfied: packaging>=20.0 in c:\\users\\himanshu\\sentiment-analysis-system\\venv\\lib\\site-packages (from dask>=2.10.0->dask[dataframe]>=2.10.0->swifter) (24.2)\n",
      "Collecting partd>=1.4.0 (from dask>=2.10.0->dask[dataframe]>=2.10.0->swifter)\n",
      "  Downloading partd-1.4.2-py3-none-any.whl.metadata (4.6 kB)\n",
      "Requirement already satisfied: pyyaml>=5.3.1 in c:\\users\\himanshu\\sentiment-analysis-system\\venv\\lib\\site-packages (from dask>=2.10.0->dask[dataframe]>=2.10.0->swifter) (6.0.2)\n",
      "Collecting toolz>=0.10.0 (from dask>=2.10.0->dask[dataframe]>=2.10.0->swifter)\n",
      "  Downloading toolz-1.0.0-py3-none-any.whl.metadata (5.1 kB)\n",
      "Collecting dask-expr<1.2,>=1.1 (from dask[dataframe]>=2.10.0->swifter)\n",
      "  Downloading dask_expr-1.1.21-py3-none-any.whl.metadata (2.6 kB)\n",
      "Requirement already satisfied: numpy>=1.26.0 in c:\\users\\himanshu\\sentiment-analysis-system\\venv\\lib\\site-packages (from pandas>=1.0.0->swifter) (2.2.1)\n",
      "Requirement already satisfied: python-dateutil>=2.8.2 in c:\\users\\himanshu\\sentiment-analysis-system\\venv\\lib\\site-packages (from pandas>=1.0.0->swifter) (2.9.0.post0)\n",
      "Requirement already satisfied: pytz>=2020.1 in c:\\users\\himanshu\\sentiment-analysis-system\\venv\\lib\\site-packages (from pandas>=1.0.0->swifter) (2024.2)\n",
      "Requirement already satisfied: tzdata>=2022.7 in c:\\users\\himanshu\\sentiment-analysis-system\\venv\\lib\\site-packages (from pandas>=1.0.0->swifter) (2024.2)\n",
      "Requirement already satisfied: colorama in c:\\users\\himanshu\\sentiment-analysis-system\\venv\\lib\\site-packages (from tqdm>=4.33.0->swifter) (0.4.6)\n",
      "Collecting pyarrow>=14.0.1 (from dask-expr<1.2,>=1.1->dask[dataframe]>=2.10.0->swifter)\n",
      "  Downloading pyarrow-18.1.0-cp312-cp312-win_amd64.whl.metadata (3.4 kB)\n",
      "Collecting locket (from partd>=1.4.0->dask>=2.10.0->dask[dataframe]>=2.10.0->swifter)\n",
      "  Downloading locket-1.0.0-py2.py3-none-any.whl.metadata (2.8 kB)\n",
      "Requirement already satisfied: six>=1.5 in c:\\users\\himanshu\\sentiment-analysis-system\\venv\\lib\\site-packages (from python-dateutil>=2.8.2->pandas>=1.0.0->swifter) (1.17.0)\n",
      "Downloading dask-2024.12.1-py3-none-any.whl (1.3 MB)\n",
      "   ---------------------------------------- 0.0/1.3 MB ? eta -:--:--\n",
      "   ----- ---------------------------------- 0.2/1.3 MB 5.4 MB/s eta 0:00:01\n",
      "   --------------------- ------------------ 0.7/1.3 MB 8.4 MB/s eta 0:00:01\n",
      "   ---------------------------------- ----- 1.1/1.3 MB 8.7 MB/s eta 0:00:01\n",
      "   ---------------------------------------- 1.3/1.3 MB 8.0 MB/s eta 0:00:00\n",
      "Downloading cloudpickle-3.1.0-py3-none-any.whl (22 kB)\n",
      "Downloading dask_expr-1.1.21-py3-none-any.whl (244 kB)\n",
      "   ---------------------------------------- 0.0/244.3 kB ? eta -:--:--\n",
      "   --------------------------------------- 244.3/244.3 kB 15.6 MB/s eta 0:00:00\n",
      "Downloading partd-1.4.2-py3-none-any.whl (18 kB)\n",
      "Downloading toolz-1.0.0-py3-none-any.whl (56 kB)\n",
      "   ---------------------------------------- 0.0/56.4 kB ? eta -:--:--\n",
      "   ---------------------------------------- 56.4/56.4 kB ? eta 0:00:00\n",
      "Downloading pyarrow-18.1.0-cp312-cp312-win_amd64.whl (25.1 MB)\n",
      "   ---------------------------------------- 0.0/25.1 MB ? eta -:--:--\n",
      "   - -------------------------------------- 0.7/25.1 MB 14.6 MB/s eta 0:00:02\n",
      "   - -------------------------------------- 1.1/25.1 MB 14.3 MB/s eta 0:00:02\n",
      "   -- ------------------------------------- 1.6/25.1 MB 12.9 MB/s eta 0:00:02\n",
      "   --- ------------------------------------ 2.0/25.1 MB 11.6 MB/s eta 0:00:02\n",
      "   --- ------------------------------------ 2.4/25.1 MB 10.8 MB/s eta 0:00:03\n",
      "   ---- ----------------------------------- 2.8/25.1 MB 10.4 MB/s eta 0:00:03\n",
      "   ----- ---------------------------------- 3.3/25.1 MB 10.6 MB/s eta 0:00:03\n",
      "   ------ --------------------------------- 3.8/25.1 MB 10.6 MB/s eta 0:00:03\n",
      "   ------ --------------------------------- 4.3/25.1 MB 10.6 MB/s eta 0:00:02\n",
      "   ------- -------------------------------- 4.8/25.1 MB 10.6 MB/s eta 0:00:02\n",
      "   -------- ------------------------------- 5.2/25.1 MB 10.6 MB/s eta 0:00:02\n",
      "   -------- ------------------------------- 5.5/25.1 MB 10.3 MB/s eta 0:00:02\n",
      "   --------- ------------------------------ 5.9/25.1 MB 10.0 MB/s eta 0:00:02\n",
      "   ---------- ----------------------------- 6.3/25.1 MB 10.1 MB/s eta 0:00:02\n",
      "   ----------- ---------------------------- 7.0/25.1 MB 10.1 MB/s eta 0:00:02\n",
      "   ----------- ---------------------------- 7.4/25.1 MB 10.3 MB/s eta 0:00:02\n",
      "   ------------ --------------------------- 8.0/25.1 MB 10.3 MB/s eta 0:00:02\n",
      "   ------------- -------------------------- 8.5/25.1 MB 10.4 MB/s eta 0:00:02\n",
      "   -------------- ------------------------- 8.9/25.1 MB 10.3 MB/s eta 0:00:02\n",
      "   --------------- ------------------------ 9.4/25.1 MB 10.4 MB/s eta 0:00:02\n",
      "   --------------- ------------------------ 9.9/25.1 MB 10.4 MB/s eta 0:00:02\n",
      "   ---------------- ----------------------- 10.5/25.1 MB 10.2 MB/s eta 0:00:02\n",
      "   ----------------- ---------------------- 10.9/25.1 MB 10.1 MB/s eta 0:00:02\n",
      "   ------------------ --------------------- 11.5/25.1 MB 10.4 MB/s eta 0:00:02\n",
      "   ------------------- -------------------- 12.0/25.1 MB 10.4 MB/s eta 0:00:02\n",
      "   ------------------- -------------------- 12.5/25.1 MB 10.6 MB/s eta 0:00:02\n",
      "   -------------------- ------------------- 13.0/25.1 MB 10.6 MB/s eta 0:00:02\n",
      "   --------------------- ------------------ 13.4/25.1 MB 10.6 MB/s eta 0:00:02\n",
      "   ---------------------- ----------------- 13.9/25.1 MB 10.4 MB/s eta 0:00:02\n",
      "   ---------------------- ----------------- 14.4/25.1 MB 10.4 MB/s eta 0:00:02\n",
      "   ----------------------- ---------------- 14.9/25.1 MB 10.4 MB/s eta 0:00:01\n",
      "   ------------------------ --------------- 15.4/25.1 MB 10.7 MB/s eta 0:00:01\n",
      "   ------------------------- -------------- 15.9/25.1 MB 10.7 MB/s eta 0:00:01\n",
      "   -------------------------- ------------- 16.4/25.1 MB 10.7 MB/s eta 0:00:01\n",
      "   -------------------------- ------------- 16.9/25.1 MB 10.7 MB/s eta 0:00:01\n",
      "   --------------------------- ------------ 17.5/25.1 MB 10.7 MB/s eta 0:00:01\n",
      "   ---------------------------- ----------- 18.1/25.1 MB 10.7 MB/s eta 0:00:01\n",
      "   ----------------------------- ---------- 18.5/25.1 MB 10.9 MB/s eta 0:00:01\n",
      "   ------------------------------ --------- 19.0/25.1 MB 11.1 MB/s eta 0:00:01\n",
      "   ------------------------------- -------- 19.5/25.1 MB 11.1 MB/s eta 0:00:01\n",
      "   -------------------------------- ------- 20.1/25.1 MB 11.1 MB/s eta 0:00:01\n",
      "   -------------------------------- ------- 20.7/25.1 MB 11.1 MB/s eta 0:00:01\n",
      "   --------------------------------- ------ 21.2/25.1 MB 11.1 MB/s eta 0:00:01\n",
      "   ---------------------------------- ----- 21.7/25.1 MB 11.1 MB/s eta 0:00:01\n",
      "   ----------------------------------- ---- 22.1/25.1 MB 11.1 MB/s eta 0:00:01\n",
      "   ----------------------------------- ---- 22.4/25.1 MB 10.7 MB/s eta 0:00:01\n",
      "   ------------------------------------ --- 22.8/25.1 MB 10.7 MB/s eta 0:00:01\n",
      "   ------------------------------------ --- 23.2/25.1 MB 10.6 MB/s eta 0:00:01\n",
      "   ------------------------------------- -- 23.6/25.1 MB 10.6 MB/s eta 0:00:01\n",
      "   -------------------------------------- - 24.1/25.1 MB 10.6 MB/s eta 0:00:01\n",
      "   ---------------------------------------  24.5/25.1 MB 10.4 MB/s eta 0:00:01\n",
      "   ---------------------------------------  25.0/25.1 MB 10.6 MB/s eta 0:00:01\n",
      "   ---------------------------------------  25.1/25.1 MB 10.6 MB/s eta 0:00:01\n",
      "   ---------------------------------------- 25.1/25.1 MB 9.5 MB/s eta 0:00:00\n",
      "Downloading locket-1.0.0-py2.py3-none-any.whl (4.4 kB)\n",
      "Installing collected packages: toolz, pyarrow, locket, cloudpickle, partd, dask, dask-expr, swifter\n",
      "Successfully installed cloudpickle-3.1.0 dask-2024.12.1 dask-expr-1.1.21 locket-1.0.0 partd-1.4.2 pyarrow-18.1.0 swifter-1.4.0 toolz-1.0.0\n",
      "Note: you may need to restart the kernel to use updated packages.\n"
     ]
    },
    {
     "name": "stderr",
     "output_type": "stream",
     "text": [
      "\n",
      "[notice] A new release of pip is available: 24.0 -> 24.3.1\n",
      "[notice] To update, run: python.exe -m pip install --upgrade pip\n"
     ]
    }
   ],
   "source": [
    "pip install swifter"
   ]
  },
  {
   "cell_type": "code",
   "execution_count": 16,
   "id": "c1cb8582-d8c3-4400-8ec3-82647830c790",
   "metadata": {},
   "outputs": [],
   "source": [
    "# Load the IMDB dataset\n",
    "file_path = '../data/IMDB Dataset.csv'\n",
    "df = pd.read_csv(file_path)"
   ]
  },
  {
   "cell_type": "code",
   "execution_count": 17,
   "id": "e726eb47-5d8f-4232-9b89-968a9d85635d",
   "metadata": {},
   "outputs": [
    {
     "data": {
      "text/html": [
       "<div>\n",
       "<style scoped>\n",
       "    .dataframe tbody tr th:only-of-type {\n",
       "        vertical-align: middle;\n",
       "    }\n",
       "\n",
       "    .dataframe tbody tr th {\n",
       "        vertical-align: top;\n",
       "    }\n",
       "\n",
       "    .dataframe thead th {\n",
       "        text-align: right;\n",
       "    }\n",
       "</style>\n",
       "<table border=\"1\" class=\"dataframe\">\n",
       "  <thead>\n",
       "    <tr style=\"text-align: right;\">\n",
       "      <th></th>\n",
       "      <th>review</th>\n",
       "      <th>sentiment</th>\n",
       "    </tr>\n",
       "  </thead>\n",
       "  <tbody>\n",
       "    <tr>\n",
       "      <th>0</th>\n",
       "      <td>One of the other reviewers has mentioned that ...</td>\n",
       "      <td>positive</td>\n",
       "    </tr>\n",
       "    <tr>\n",
       "      <th>1</th>\n",
       "      <td>A wonderful little production. &lt;br /&gt;&lt;br /&gt;The...</td>\n",
       "      <td>positive</td>\n",
       "    </tr>\n",
       "    <tr>\n",
       "      <th>2</th>\n",
       "      <td>I thought this was a wonderful way to spend ti...</td>\n",
       "      <td>positive</td>\n",
       "    </tr>\n",
       "    <tr>\n",
       "      <th>3</th>\n",
       "      <td>Basically there's a family where a little boy ...</td>\n",
       "      <td>negative</td>\n",
       "    </tr>\n",
       "    <tr>\n",
       "      <th>4</th>\n",
       "      <td>Petter Mattei's \"Love in the Time of Money\" is...</td>\n",
       "      <td>positive</td>\n",
       "    </tr>\n",
       "  </tbody>\n",
       "</table>\n",
       "</div>"
      ],
      "text/plain": [
       "                                              review sentiment\n",
       "0  One of the other reviewers has mentioned that ...  positive\n",
       "1  A wonderful little production. <br /><br />The...  positive\n",
       "2  I thought this was a wonderful way to spend ti...  positive\n",
       "3  Basically there's a family where a little boy ...  negative\n",
       "4  Petter Mattei's \"Love in the Time of Money\" is...  positive"
      ]
     },
     "execution_count": 17,
     "metadata": {},
     "output_type": "execute_result"
    }
   ],
   "source": [
    "df.head()"
   ]
  },
  {
   "cell_type": "code",
   "execution_count": 18,
   "id": "2f0f8e61-503a-46fc-b882-3c2ad5aa7ac6",
   "metadata": {},
   "outputs": [],
   "source": [
    "# Rename columns for consistency\n",
    "df.columns = [\"review\", \"sentiment\"]"
   ]
  },
  {
   "cell_type": "code",
   "execution_count": 19,
   "id": "d7ccc54e-7253-4aa6-be82-c5ffbf0986e5",
   "metadata": {},
   "outputs": [
    {
     "name": "stderr",
     "output_type": "stream",
     "text": [
      "Pandas Apply: 100%|██████████████████████████████████████████████████████████████████████████████████████████████████| 50000/50000 [49:05<00:00, 16.97it/s]\n"
     ]
    }
   ],
   "source": [
    "# Apply the cleaning function using swifter for parallelization\n",
    "df[\"clean_text\"] = df[\"review\"].swifter.apply(clean_text_spacy)"
   ]
  },
  {
   "cell_type": "code",
   "execution_count": 20,
   "id": "fa664102-16a9-4761-8c04-eeb72588275c",
   "metadata": {},
   "outputs": [],
   "source": [
    "# Map sentiment labels to binary values (positive = 1, negative = 0)\n",
    "df[\"sentiment\"] = df[\"sentiment\"].map({\"positive\": 1, \"negative\": 0})"
   ]
  },
  {
   "cell_type": "code",
   "execution_count": 21,
   "id": "25d46315-89bf-4447-8ca3-51153974c378",
   "metadata": {},
   "outputs": [
    {
     "name": "stdout",
     "output_type": "stream",
     "text": [
      "Text cleaning complete! Here's a preview of the cleaned dataset:\n",
      "                                              review  sentiment  \\\n",
      "0  One of the other reviewers has mentioned that ...          1   \n",
      "1  A wonderful little production. <br /><br />The...          1   \n",
      "2  I thought this was a wonderful way to spend ti...          1   \n",
      "3  Basically there's a family where a little boy ...          0   \n",
      "4  Petter Mattei's \"Love in the Time of Money\" is...          1   \n",
      "\n",
      "                                          clean_text  \n",
      "0  reviewer mention watch oz episode hook right e...  \n",
      "1  wonderful little production br filming techniq...  \n",
      "2  think wonderful way spend time hot summer week...  \n",
      "3  basically family little boy jake think zombie ...  \n",
      "4  petter mattei love time money visually stunnin...  \n"
     ]
    }
   ],
   "source": [
    "# Save the cleaned dataset for future use\n",
    "processed_file_path = '../data/processed_data.csv'\n",
    "df.to_csv(processed_file_path, index=False)\n",
    "\n",
    "# Preview the first few rows\n",
    "print(\"Text cleaning complete! Here's a preview of the cleaned dataset:\")\n",
    "print(df.head())"
   ]
  },
  {
   "cell_type": "markdown",
   "id": "01f5ec5f-c415-4da1-a850-c4554e19c5be",
   "metadata": {},
   "source": [
    "## Load Cleaned Data"
   ]
  },
  {
   "cell_type": "code",
   "execution_count": 27,
   "id": "258ca716-63ec-4721-ac72-727153f5feed",
   "metadata": {},
   "outputs": [
    {
     "name": "stdout",
     "output_type": "stream",
     "text": [
      "Cleaned dataset loaded successfully!\n",
      "                                              review  sentiment  \\\n",
      "0  One of the other reviewers has mentioned that ...          1   \n",
      "1  A wonderful little production. <br /><br />The...          1   \n",
      "2  I thought this was a wonderful way to spend ti...          1   \n",
      "3  Basically there's a family where a little boy ...          0   \n",
      "4  Petter Mattei's \"Love in the Time of Money\" is...          1   \n",
      "\n",
      "                                          clean_text  \n",
      "0  reviewer mention watch oz episode hook right e...  \n",
      "1  wonderful little production br filming techniq...  \n",
      "2  think wonderful way spend time hot summer week...  \n",
      "3  basically family little boy jake think zombie ...  \n",
      "4  petter mattei love time money visually stunnin...  \n"
     ]
    }
   ],
   "source": [
    "import pandas as pd\n",
    "\n",
    "# Load the cleaned dataset\n",
    "file_path = '../data/processed_data.csv'\n",
    "df1 = pd.read_csv(file_path)\n",
    "\n",
    "# Preview the dataset\n",
    "print(\"Cleaned dataset loaded successfully!\")\n",
    "print(df1.head())\n"
   ]
  },
  {
   "cell_type": "markdown",
   "id": "676b5866-f2eb-4d76-9c91-0efd019c7d99",
   "metadata": {},
   "source": [
    "## . Vectorize Text with TF-IDF"
   ]
  },
  {
   "cell_type": "code",
   "execution_count": 29,
   "id": "010cb7fe-f212-40be-a774-77158f0604b8",
   "metadata": {},
   "outputs": [
    {
     "name": "stdout",
     "output_type": "stream",
     "text": [
      "Collecting scikit-learn\n",
      "  Downloading scikit_learn-1.6.0-cp312-cp312-win_amd64.whl.metadata (15 kB)\n",
      "Requirement already satisfied: numpy>=1.19.5 in c:\\users\\himanshu\\sentiment-analysis-system\\venv\\lib\\site-packages (from scikit-learn) (2.2.1)\n",
      "Collecting scipy>=1.6.0 (from scikit-learn)\n",
      "  Downloading scipy-1.15.0-cp312-cp312-win_amd64.whl.metadata (60 kB)\n",
      "     ---------------------------------------- 0.0/60.8 kB ? eta -:--:--\n",
      "     -------------------- ------------------- 30.7/60.8 kB 1.4 MB/s eta 0:00:01\n",
      "     ---------------------------------------- 60.8/60.8 kB 1.6 MB/s eta 0:00:00\n",
      "Requirement already satisfied: joblib>=1.2.0 in c:\\users\\himanshu\\sentiment-analysis-system\\venv\\lib\\site-packages (from scikit-learn) (1.4.2)\n",
      "Collecting threadpoolctl>=3.1.0 (from scikit-learn)\n",
      "  Using cached threadpoolctl-3.5.0-py3-none-any.whl.metadata (13 kB)\n",
      "Downloading scikit_learn-1.6.0-cp312-cp312-win_amd64.whl (11.1 MB)\n",
      "   ---------------------------------------- 0.0/11.1 MB ? eta -:--:--\n",
      "    --------------------------------------- 0.2/11.1 MB 10.2 MB/s eta 0:00:02\n",
      "   - -------------------------------------- 0.3/11.1 MB 5.3 MB/s eta 0:00:03\n",
      "   - -------------------------------------- 0.6/11.1 MB 5.0 MB/s eta 0:00:03\n",
      "   -- ------------------------------------- 0.8/11.1 MB 5.2 MB/s eta 0:00:02\n",
      "   --- ------------------------------------ 1.0/11.1 MB 4.8 MB/s eta 0:00:03\n",
      "   ---- ----------------------------------- 1.3/11.1 MB 5.2 MB/s eta 0:00:02\n",
      "   ----- ---------------------------------- 1.5/11.1 MB 5.0 MB/s eta 0:00:02\n",
      "   ------ --------------------------------- 1.8/11.1 MB 5.3 MB/s eta 0:00:02\n",
      "   ------- -------------------------------- 2.1/11.1 MB 5.3 MB/s eta 0:00:02\n",
      "   -------- ------------------------------- 2.3/11.1 MB 5.3 MB/s eta 0:00:02\n",
      "   --------- ------------------------------ 2.6/11.1 MB 5.4 MB/s eta 0:00:02\n",
      "   ---------- ----------------------------- 2.9/11.1 MB 5.4 MB/s eta 0:00:02\n",
      "   ----------- ---------------------------- 3.2/11.1 MB 5.6 MB/s eta 0:00:02\n",
      "   ------------ --------------------------- 3.6/11.1 MB 5.7 MB/s eta 0:00:02\n",
      "   -------------- ------------------------- 4.0/11.1 MB 5.9 MB/s eta 0:00:02\n",
      "   --------------- ------------------------ 4.3/11.1 MB 6.0 MB/s eta 0:00:02\n",
      "   ---------------- ----------------------- 4.6/11.1 MB 6.2 MB/s eta 0:00:02\n",
      "   ----------------- ---------------------- 4.9/11.1 MB 6.1 MB/s eta 0:00:02\n",
      "   ------------------ --------------------- 5.3/11.1 MB 6.2 MB/s eta 0:00:01\n",
      "   -------------------- ------------------- 5.6/11.1 MB 6.3 MB/s eta 0:00:01\n",
      "   --------------------- ------------------ 5.9/11.1 MB 6.3 MB/s eta 0:00:01\n",
      "   ---------------------- ----------------- 6.3/11.1 MB 6.4 MB/s eta 0:00:01\n",
      "   ----------------------- ---------------- 6.6/11.1 MB 6.4 MB/s eta 0:00:01\n",
      "   ------------------------ --------------- 6.9/11.1 MB 6.4 MB/s eta 0:00:01\n",
      "   ------------------------- -------------- 7.2/11.1 MB 6.5 MB/s eta 0:00:01\n",
      "   --------------------------- ------------ 7.6/11.1 MB 6.5 MB/s eta 0:00:01\n",
      "   ---------------------------- ----------- 7.9/11.1 MB 6.5 MB/s eta 0:00:01\n",
      "   ----------------------------- ---------- 8.3/11.1 MB 6.6 MB/s eta 0:00:01\n",
      "   ------------------------------- -------- 8.7/11.1 MB 6.6 MB/s eta 0:00:01\n",
      "   -------------------------------- ------- 9.0/11.1 MB 6.6 MB/s eta 0:00:01\n",
      "   --------------------------------- ------ 9.3/11.1 MB 6.7 MB/s eta 0:00:01\n",
      "   ---------------------------------- ----- 9.7/11.1 MB 6.7 MB/s eta 0:00:01\n",
      "   ------------------------------------ --- 10.1/11.1 MB 6.8 MB/s eta 0:00:01\n",
      "   ------------------------------------- -- 10.4/11.1 MB 6.7 MB/s eta 0:00:01\n",
      "   -------------------------------------- - 10.8/11.1 MB 7.0 MB/s eta 0:00:01\n",
      "   ---------------------------------------  11.1/11.1 MB 7.1 MB/s eta 0:00:01\n",
      "   ---------------------------------------- 11.1/11.1 MB 7.0 MB/s eta 0:00:00\n",
      "Downloading scipy-1.15.0-cp312-cp312-win_amd64.whl (43.6 MB)\n",
      "   ---------------------------------------- 0.0/43.6 MB ? eta -:--:--\n",
      "   ---------------------------------------- 0.2/43.6 MB 7.3 MB/s eta 0:00:06\n",
      "    --------------------------------------- 0.6/43.6 MB 8.1 MB/s eta 0:00:06\n",
      "    --------------------------------------- 1.0/43.6 MB 8.1 MB/s eta 0:00:06\n",
      "   - -------------------------------------- 1.4/43.6 MB 8.0 MB/s eta 0:00:06\n",
      "   - -------------------------------------- 1.8/43.6 MB 8.1 MB/s eta 0:00:06\n",
      "   - -------------------------------------- 2.1/43.6 MB 7.9 MB/s eta 0:00:06\n",
      "   -- ------------------------------------- 2.4/43.6 MB 8.1 MB/s eta 0:00:06\n",
      "   -- ------------------------------------- 2.7/43.6 MB 7.6 MB/s eta 0:00:06\n",
      "   -- ------------------------------------- 3.1/43.6 MB 7.5 MB/s eta 0:00:06\n",
      "   --- ------------------------------------ 3.3/43.6 MB 7.3 MB/s eta 0:00:06\n",
      "   --- ------------------------------------ 3.7/43.6 MB 7.4 MB/s eta 0:00:06\n",
      "   --- ------------------------------------ 4.0/43.6 MB 7.4 MB/s eta 0:00:06\n",
      "   ---- ----------------------------------- 4.4/43.6 MB 7.5 MB/s eta 0:00:06\n",
      "   ---- ----------------------------------- 4.8/43.6 MB 7.7 MB/s eta 0:00:06\n",
      "   ---- ----------------------------------- 5.1/43.6 MB 7.5 MB/s eta 0:00:06\n",
      "   ----- ---------------------------------- 5.5/43.6 MB 7.6 MB/s eta 0:00:06\n",
      "   ----- ---------------------------------- 5.8/43.6 MB 7.6 MB/s eta 0:00:06\n",
      "   ----- ---------------------------------- 6.2/43.6 MB 7.6 MB/s eta 0:00:05\n",
      "   ----- ---------------------------------- 6.5/43.6 MB 7.6 MB/s eta 0:00:05\n",
      "   ------ --------------------------------- 6.8/43.6 MB 7.5 MB/s eta 0:00:05\n",
      "   ------ --------------------------------- 7.0/43.6 MB 7.4 MB/s eta 0:00:05\n",
      "   ------ --------------------------------- 7.3/43.6 MB 7.4 MB/s eta 0:00:05\n",
      "   ------- -------------------------------- 7.7/43.6 MB 7.3 MB/s eta 0:00:05\n",
      "   ------- -------------------------------- 8.0/43.6 MB 7.3 MB/s eta 0:00:05\n",
      "   ------- -------------------------------- 8.4/43.6 MB 7.3 MB/s eta 0:00:05\n",
      "   -------- ------------------------------- 8.7/43.6 MB 7.4 MB/s eta 0:00:05\n",
      "   -------- ------------------------------- 9.1/43.6 MB 7.4 MB/s eta 0:00:05\n",
      "   -------- ------------------------------- 9.4/43.6 MB 7.5 MB/s eta 0:00:05\n",
      "   --------- ------------------------------ 9.9/43.6 MB 7.4 MB/s eta 0:00:05\n",
      "   --------- ------------------------------ 10.1/43.6 MB 7.4 MB/s eta 0:00:05\n",
      "   --------- ------------------------------ 10.5/43.6 MB 7.5 MB/s eta 0:00:05\n",
      "   --------- ------------------------------ 10.9/43.6 MB 7.4 MB/s eta 0:00:05\n",
      "   ---------- ----------------------------- 11.2/43.6 MB 7.4 MB/s eta 0:00:05\n",
      "   ---------- ----------------------------- 11.6/43.6 MB 7.4 MB/s eta 0:00:05\n",
      "   ---------- ----------------------------- 11.9/43.6 MB 7.4 MB/s eta 0:00:05\n",
      "   ----------- ---------------------------- 12.2/43.6 MB 7.4 MB/s eta 0:00:05\n",
      "   ----------- ---------------------------- 12.6/43.6 MB 7.4 MB/s eta 0:00:05\n",
      "   ----------- ---------------------------- 13.1/43.6 MB 7.5 MB/s eta 0:00:05\n",
      "   ------------ --------------------------- 13.3/43.6 MB 7.4 MB/s eta 0:00:05\n",
      "   ------------ --------------------------- 13.8/43.6 MB 7.5 MB/s eta 0:00:04\n",
      "   ------------ --------------------------- 14.1/43.6 MB 7.5 MB/s eta 0:00:04\n",
      "   ------------- -------------------------- 14.5/43.6 MB 7.5 MB/s eta 0:00:04\n",
      "   ------------- -------------------------- 14.8/43.6 MB 7.4 MB/s eta 0:00:04\n",
      "   ------------- -------------------------- 15.1/43.6 MB 7.5 MB/s eta 0:00:04\n",
      "   -------------- ------------------------- 15.4/43.6 MB 7.4 MB/s eta 0:00:04\n",
      "   -------------- ------------------------- 15.7/43.6 MB 7.4 MB/s eta 0:00:04\n",
      "   -------------- ------------------------- 16.1/43.6 MB 7.4 MB/s eta 0:00:04\n",
      "   --------------- ------------------------ 16.4/43.6 MB 7.4 MB/s eta 0:00:04\n",
      "   --------------- ------------------------ 16.8/43.6 MB 7.4 MB/s eta 0:00:04\n",
      "   --------------- ------------------------ 17.2/43.6 MB 7.5 MB/s eta 0:00:04\n",
      "   ---------------- ----------------------- 17.6/43.6 MB 7.5 MB/s eta 0:00:04\n",
      "   ---------------- ----------------------- 17.9/43.6 MB 7.5 MB/s eta 0:00:04\n",
      "   ---------------- ----------------------- 18.2/43.6 MB 7.5 MB/s eta 0:00:04\n",
      "   ----------------- ---------------------- 18.6/43.6 MB 7.5 MB/s eta 0:00:04\n",
      "   ----------------- ---------------------- 18.9/43.6 MB 7.5 MB/s eta 0:00:04\n",
      "   ----------------- ---------------------- 19.3/43.6 MB 7.5 MB/s eta 0:00:04\n",
      "   ----------------- ---------------------- 19.6/43.6 MB 7.6 MB/s eta 0:00:04\n",
      "   ------------------ --------------------- 20.0/43.6 MB 7.5 MB/s eta 0:00:04\n",
      "   ------------------ --------------------- 20.3/43.6 MB 7.6 MB/s eta 0:00:04\n",
      "   ------------------- -------------------- 20.7/43.6 MB 7.6 MB/s eta 0:00:04\n",
      "   ------------------- -------------------- 21.0/43.6 MB 7.6 MB/s eta 0:00:03\n",
      "   ------------------- -------------------- 21.5/43.6 MB 7.7 MB/s eta 0:00:03\n",
      "   -------------------- ------------------- 21.8/43.6 MB 7.7 MB/s eta 0:00:03\n",
      "   -------------------- ------------------- 22.2/43.6 MB 7.7 MB/s eta 0:00:03\n",
      "   -------------------- ------------------- 22.4/43.6 MB 7.6 MB/s eta 0:00:03\n",
      "   -------------------- ------------------- 22.8/43.6 MB 7.5 MB/s eta 0:00:03\n",
      "   --------------------- ------------------ 23.1/43.6 MB 7.6 MB/s eta 0:00:03\n",
      "   --------------------- ------------------ 23.4/43.6 MB 7.4 MB/s eta 0:00:03\n",
      "   --------------------- ------------------ 23.8/43.6 MB 7.5 MB/s eta 0:00:03\n",
      "   ---------------------- ----------------- 24.1/43.6 MB 7.4 MB/s eta 0:00:03\n",
      "   ---------------------- ----------------- 24.5/43.6 MB 7.5 MB/s eta 0:00:03\n",
      "   ---------------------- ----------------- 24.8/43.6 MB 7.5 MB/s eta 0:00:03\n",
      "   ----------------------- ---------------- 25.2/43.6 MB 7.6 MB/s eta 0:00:03\n",
      "   ----------------------- ---------------- 25.6/43.6 MB 7.6 MB/s eta 0:00:03\n",
      "   ----------------------- ---------------- 25.8/43.6 MB 7.6 MB/s eta 0:00:03\n",
      "   ------------------------ --------------- 26.2/43.6 MB 7.6 MB/s eta 0:00:03\n",
      "   ------------------------ --------------- 26.5/43.6 MB 7.6 MB/s eta 0:00:03\n",
      "   ------------------------ --------------- 26.9/43.6 MB 7.6 MB/s eta 0:00:03\n",
      "   ------------------------ --------------- 27.2/43.6 MB 7.5 MB/s eta 0:00:03\n",
      "   ------------------------- -------------- 27.5/43.6 MB 7.5 MB/s eta 0:00:03\n",
      "   ------------------------- -------------- 27.8/43.6 MB 7.5 MB/s eta 0:00:03\n",
      "   ------------------------- -------------- 28.3/43.6 MB 7.5 MB/s eta 0:00:03\n",
      "   -------------------------- ------------- 28.6/43.6 MB 7.5 MB/s eta 0:00:03\n",
      "   -------------------------- ------------- 29.0/43.6 MB 7.6 MB/s eta 0:00:02\n",
      "   -------------------------- ------------- 29.3/43.6 MB 7.6 MB/s eta 0:00:02\n",
      "   --------------------------- ------------ 29.7/43.6 MB 7.5 MB/s eta 0:00:02\n",
      "   --------------------------- ------------ 30.1/43.6 MB 7.6 MB/s eta 0:00:02\n",
      "   --------------------------- ------------ 30.5/43.6 MB 7.6 MB/s eta 0:00:02\n",
      "   ---------------------------- ----------- 30.9/43.6 MB 7.5 MB/s eta 0:00:02\n",
      "   ---------------------------- ----------- 31.3/43.6 MB 7.6 MB/s eta 0:00:02\n",
      "   ---------------------------- ----------- 31.6/43.6 MB 7.6 MB/s eta 0:00:02\n",
      "   ----------------------------- ---------- 32.0/43.6 MB 7.6 MB/s eta 0:00:02\n",
      "   ----------------------------- ---------- 32.3/43.6 MB 7.6 MB/s eta 0:00:02\n",
      "   ----------------------------- ---------- 32.7/43.6 MB 7.6 MB/s eta 0:00:02\n",
      "   ------------------------------ --------- 33.0/43.6 MB 7.7 MB/s eta 0:00:02\n",
      "   ------------------------------ --------- 33.4/43.6 MB 7.7 MB/s eta 0:00:02\n",
      "   ------------------------------- -------- 33.9/43.6 MB 7.8 MB/s eta 0:00:02\n",
      "   ------------------------------- -------- 34.2/43.6 MB 7.7 MB/s eta 0:00:02\n",
      "   ------------------------------- -------- 34.6/43.6 MB 7.8 MB/s eta 0:00:02\n",
      "   -------------------------------- ------- 35.1/43.6 MB 7.8 MB/s eta 0:00:02\n",
      "   -------------------------------- ------- 35.5/43.6 MB 7.8 MB/s eta 0:00:02\n",
      "   -------------------------------- ------- 36.0/43.6 MB 7.9 MB/s eta 0:00:01\n",
      "   --------------------------------- ------ 36.3/43.6 MB 7.9 MB/s eta 0:00:01\n",
      "   --------------------------------- ------ 36.7/43.6 MB 8.0 MB/s eta 0:00:01\n",
      "   --------------------------------- ------ 37.0/43.6 MB 7.9 MB/s eta 0:00:01\n",
      "   ---------------------------------- ----- 37.4/43.6 MB 8.0 MB/s eta 0:00:01\n",
      "   ---------------------------------- ----- 37.8/43.6 MB 8.0 MB/s eta 0:00:01\n",
      "   ----------------------------------- ---- 38.2/43.6 MB 8.1 MB/s eta 0:00:01\n",
      "   ----------------------------------- ---- 38.6/43.6 MB 8.1 MB/s eta 0:00:01\n",
      "   ----------------------------------- ---- 39.0/43.6 MB 8.2 MB/s eta 0:00:01\n",
      "   ------------------------------------ --- 39.3/43.6 MB 8.1 MB/s eta 0:00:01\n",
      "   ------------------------------------ --- 39.7/43.6 MB 8.2 MB/s eta 0:00:01\n",
      "   ------------------------------------ --- 40.1/43.6 MB 8.2 MB/s eta 0:00:01\n",
      "   ------------------------------------- -- 40.5/43.6 MB 8.3 MB/s eta 0:00:01\n",
      "   ------------------------------------- -- 40.8/43.6 MB 8.1 MB/s eta 0:00:01\n",
      "   ------------------------------------- -- 41.1/43.6 MB 8.1 MB/s eta 0:00:01\n",
      "   -------------------------------------- - 41.5/43.6 MB 8.0 MB/s eta 0:00:01\n",
      "   -------------------------------------- - 41.8/43.6 MB 8.0 MB/s eta 0:00:01\n",
      "   -------------------------------------- - 42.2/43.6 MB 8.0 MB/s eta 0:00:01\n",
      "   -------------------------------------- - 42.5/43.6 MB 8.0 MB/s eta 0:00:01\n",
      "   ---------------------------------------  42.9/43.6 MB 8.0 MB/s eta 0:00:01\n",
      "   ---------------------------------------  43.3/43.6 MB 8.0 MB/s eta 0:00:01\n",
      "   ---------------------------------------  43.6/43.6 MB 8.1 MB/s eta 0:00:01\n",
      "   ---------------------------------------  43.6/43.6 MB 8.1 MB/s eta 0:00:01\n",
      "   ---------------------------------------- 43.6/43.6 MB 7.4 MB/s eta 0:00:00\n",
      "Using cached threadpoolctl-3.5.0-py3-none-any.whl (18 kB)\n",
      "Installing collected packages: threadpoolctl, scipy, scikit-learn\n",
      "Successfully installed scikit-learn-1.6.0 scipy-1.15.0 threadpoolctl-3.5.0\n"
     ]
    },
    {
     "name": "stderr",
     "output_type": "stream",
     "text": [
      "\n",
      "[notice] A new release of pip is available: 24.0 -> 24.3.1\n",
      "[notice] To update, run: python.exe -m pip install --upgrade pip\n"
     ]
    }
   ],
   "source": [
    "!pip install scikit-learn\n"
   ]
  },
  {
   "cell_type": "code",
   "execution_count": 30,
   "id": "379a7dcb-c684-4b8d-b043-f8585ed1edf5",
   "metadata": {},
   "outputs": [],
   "source": [
    "from sklearn.feature_extraction.text import TfidfVectorizer\n",
    "from sklearn.model_selection import train_test_split"
   ]
  },
  {
   "cell_type": "code",
   "execution_count": 31,
   "id": "9c76f22c-9ae9-4905-9564-e104ee66424e",
   "metadata": {},
   "outputs": [
    {
     "name": "stdout",
     "output_type": "stream",
     "text": [
      "TF-IDF vectorization complete!\n"
     ]
    }
   ],
   "source": [
    "# Split the data into training and testing sets\n",
    "X_train, X_test, y_train, y_test = train_test_split(\n",
    "    df['clean_text'], df['sentiment'], test_size=0.2, random_state=42\n",
    ")\n",
    "\n",
    "# Initialize the TF-IDF Vectorizer\n",
    "tfidf_vectorizer = TfidfVectorizer(max_features=5000)  # Use the top 5000 features for efficiency\n",
    "\n",
    "# Fit the vectorizer on the training data and transform both training and testing data\n",
    "X_train_tfidf = tfidf_vectorizer.fit_transform(X_train)\n",
    "X_test_tfidf = tfidf_vectorizer.transform(X_test)\n",
    "\n",
    "print(\"TF-IDF vectorization complete!\")"
   ]
  },
  {
   "cell_type": "markdown",
   "id": "06dc4511-2a47-4555-b748-2b26807f36d8",
   "metadata": {},
   "source": [
    "##  Train Logistic Regression Model"
   ]
  },
  {
   "cell_type": "code",
   "execution_count": 32,
   "id": "ef595c6f-4527-44dc-88b6-374dea1af408",
   "metadata": {},
   "outputs": [
    {
     "name": "stdout",
     "output_type": "stream",
     "text": [
      "Model Accuracy: 0.88\n",
      "\n",
      "Classification Report:\n",
      "              precision    recall  f1-score   support\n",
      "\n",
      "    Negative       0.89      0.86      0.88      4961\n",
      "    Positive       0.87      0.90      0.88      5039\n",
      "\n",
      "    accuracy                           0.88     10000\n",
      "   macro avg       0.88      0.88      0.88     10000\n",
      "weighted avg       0.88      0.88      0.88     10000\n",
      "\n"
     ]
    }
   ],
   "source": [
    "from sklearn.linear_model import LogisticRegression\n",
    "from sklearn.metrics import accuracy_score, classification_report, confusion_matrix\n",
    "\n",
    "# Initialize the Logistic Regression model\n",
    "logreg = LogisticRegression(max_iter=1000, random_state=42)\n",
    "\n",
    "# Train the model on the training data\n",
    "logreg.fit(X_train_tfidf, y_train)\n",
    "\n",
    "# Predict sentiment on the test data\n",
    "y_pred = logreg.predict(X_test_tfidf)\n",
    "\n",
    "# Evaluate the model\n",
    "accuracy = accuracy_score(y_test, y_pred)\n",
    "print(f\"Model Accuracy: {accuracy:.2f}\")\n",
    "\n",
    "print(\"\\nClassification Report:\")\n",
    "print(classification_report(y_test, y_pred, target_names=['Negative', 'Positive']))\n"
   ]
  },
  {
   "cell_type": "markdown",
   "id": "fd3c69ae-761d-46c6-a27f-f05dc7b3e179",
   "metadata": {},
   "source": [
    "## Visualize the Results"
   ]
  },
  {
   "cell_type": "code",
   "execution_count": 33,
   "id": "f3ef0d46-ce28-442c-8280-f9bc0ff2ffdb",
   "metadata": {},
   "outputs": [
    {
     "data": {
      "image/png": "[encoded data removed]",
      "text/plain": [
       "<Figure size 800x600 with 2 Axes>"
      ]
     },
     "metadata": {},
     "output_type": "display_data"
    }
   ],
   "source": [
    "import seaborn as sns\n",
    "import matplotlib.pyplot as plt\n",
    "\n",
    "# Generate the confusion matrix\n",
    "cm = confusion_matrix(y_test, y_pred)\n",
    "\n",
    "# Visualize the confusion matrix\n",
    "plt.figure(figsize=(8, 6))\n",
    "sns.heatmap(cm, annot=True, fmt='d', cmap='Blues', xticklabels=['Negative', 'Positive'], yticklabels=['Negative', 'Positive'])\n",
    "plt.xlabel(\"Predicted Label\")\n",
    "plt.ylabel(\"True Label\")\n",
    "plt.title(\"Confusion Matrix\")\n",
    "plt.show()\n"
   ]
  },
  {
   "cell_type": "markdown",
   "id": "04a74fa2-5d6a-4dc2-a15c-11be9abb052f",
   "metadata": {},
   "source": [
    "## Save the Model and Vectorizer"
   ]
  },
  {
   "cell_type": "code",
   "execution_count": 35,
   "id": "f143eb3a-aacd-4894-be2c-3d8138c418d0",
   "metadata": {},
   "outputs": [
    {
     "name": "stdout",
     "output_type": "stream",
     "text": [
      "Model and vectorizer saved successfully!\n"
     ]
    }
   ],
   "source": [
    "import joblib\n",
    "\n",
    "# Save the trained model and vectorizer\n",
    "joblib.dump(logreg, '../models/logistic_regression_model.pkl')\n",
    "joblib.dump(tfidf_vectorizer, '../models/tfidf_vectorizer.pkl')\n",
    "\n",
    "print(\"Model and vectorizer saved successfully!\")\n"
   ]
  },
  {
   "cell_type": "code",
   "execution_count": 37,
   "id": "713ff30c-ffc1-4fc4-9fb3-85b42a1549a1",
   "metadata": {},
   "outputs": [
    {
     "data": {
      "text/plain": [
       "['../models/tfidf_vectorizer.pkl']"
      ]
     },
     "execution_count": 37,
     "metadata": {},
     "output_type": "execute_result"
    }
   ],
   "source": [
    "# Fit the vectorizer and transform the training data\n",
    "X_train_tfidf = tfidf_vectorizer.fit_transform(X_train)\n",
    "\n",
    "# Save the fitted vectorizer\n",
    "joblib.dump(tfidf_vectorizer, '../models/tfidf_vectorizer.pkl')\n"
   ]
  },
  {
   "cell_type": "markdown",
   "id": "390cf8d7-71c6-438e-a0de-dcb980d2f7f3",
   "metadata": {},
   "source": [
    "## Key Insights from the Results:\n",
    "Overall Accuracy:\n",
    "\n",
    "The model achieves 88% accuracy, indicating that it correctly predicts sentiment for the majority of the reviews.\n",
    "Precision and Recall:\n",
    "\n",
    "Both Negative and Positive classes are well-balanced with similar precision (0.88) and recall (0.88).\n",
    "This suggests that the model performs equally well on both classes without significant bias.\n",
    "F1-Score:\n",
    "\n",
    "The F1-score for both classes is ~0.88, which confirms that the model maintains a good balance between precision and recall.\n",
    "Support:\n",
    "\n",
    "The dataset is balanced, with roughly equal instances for both classes (Negative: 4961, Positive: 5039)."
   ]
  },
  {
   "cell_type": "code",
   "execution_count": 36,
   "id": "ffd1a280-d82e-412c-999d-7b1e2727dbbc",
   "metadata": {},
   "outputs": [
    {
     "name": "stdout",
     "output_type": "stream",
     "text": [
      "Classification report saved successfully!\n"
     ]
    }
   ],
   "source": [
    "with open('../models/classification_report.txt', 'w') as f:\n",
    "    from sklearn.metrics import classification_report\n",
    "    f.write(classification_report(y_test, y_pred, target_names=['Negative', 'Positive']))\n",
    "print(\"Classification report saved successfully!\")\n"
   ]
  },
  {
   "cell_type": "code",
   "execution_count": null,
   "id": "91a2f8e0-53d5-4ca8-84df-b9030b5d66d8",
   "metadata": {},
   "outputs": [],
   "source": []
  }
 ],
 "metadata": {
  "kernelspec": {
   "display_name": "Python (venv)",
   "language": "python",
   "name": "venv"
  },
  "language_info": {
   "codemirror_mode": {
    "name": "ipython",
    "version": 3
   },
   "file_extension": ".py",
   "mimetype": "text/x-python",
   "name": "python",
   "nbconvert_exporter": "python",
   "pygments_lexer": "ipython3",
   "version": "3.12.4"
  }
 },
 "nbformat": 4,
 "nbformat_minor": 5
}
